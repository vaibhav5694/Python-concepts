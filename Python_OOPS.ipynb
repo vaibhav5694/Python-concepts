{
  "nbformat": 4,
  "nbformat_minor": 0,
  "metadata": {
    "colab": {
      "provenance": [],
      "toc_visible": true,
      "authorship_tag": "ABX9TyNGYr+/zUQm4NpfXP8zbfn1"
    },
    "kernelspec": {
      "name": "python3",
      "display_name": "Python 3"
    },
    "language_info": {
      "name": "python"
    }
  },
  "cells": [
    {
      "cell_type": "markdown",
      "source": [
        "#OOPS IN PYTHON\n",
        "Class - Real world entities. Example - Mobile\n",
        "Objects - Specific instance of a class. Exammple - Motorola , Samsung , LG etc.\n",
        "For representing above in programming language we require oops.\n"
      ],
      "metadata": {
        "id": "NWwUnYaemsPu"
      }
    },
    {
      "cell_type": "code",
      "source": [
        "# Creating first class.\n",
        "\n",
        "class VKP:\n",
        "  def get_name(self , name):\n",
        "    self.name = name\n",
        "  def show_name(self):\n",
        "    return self.name"
      ],
      "metadata": {
        "id": "zCMFqcKWDvce"
      },
      "execution_count": null,
      "outputs": []
    },
    {
      "cell_type": "code",
      "source": [
        "res = VKP()\n",
        "res.get_name('Vaibhav')\n",
        "res.show_name()"
      ],
      "metadata": {
        "colab": {
          "base_uri": "https://localhost:8080/",
          "height": 35
        },
        "id": "suEP8LlBDx88",
        "outputId": "04e021f0-b7c8-401c-a63f-8a6476f13e29"
      },
      "execution_count": null,
      "outputs": [
        {
          "output_type": "execute_result",
          "data": {
            "text/plain": [
              "'Vaibhav'"
            ],
            "application/vnd.google.colaboratory.intrinsic+json": {
              "type": "string"
            }
          },
          "metadata": {},
          "execution_count": 4
        }
      ]
    },
    {
      "cell_type": "markdown",
      "source": [
        "#Constructor\n",
        "\n",
        "Here we define all parameters in one go.\n",
        "For this we use initit python"
      ],
      "metadata": {
        "id": "hli853KXmxnu"
      }
    },
    {
      "cell_type": "code",
      "source": [
        "class Person:\n",
        "\n",
        "    # init method or constructor\n",
        "    def __init__(self, name , city):\n",
        "        self.name = name\n",
        "        self.city = city\n",
        "\n",
        "    # Sample Method\n",
        "    def say_hi(self):\n",
        "        print('Hello, my name is', self.name)\n",
        "        print('Hello, my city is', self.city)\n",
        "\n",
        "\n",
        "# Creating different objects\n",
        "p1 = Person('Nikhil' , 'Varanasi')\n",
        "\n",
        "\n",
        "p1.say_hi()\n"
      ],
      "metadata": {
        "colab": {
          "base_uri": "https://localhost:8080/"
        },
        "id": "N-LomriuDx-t",
        "outputId": "4a7f5e6f-5fa8-42c1-95ae-3f38c20f8b19"
      },
      "execution_count": null,
      "outputs": [
        {
          "output_type": "stream",
          "name": "stdout",
          "text": [
            "Hello, my name is Nikhil\n",
            "Hello, my city is Varanasi\n"
          ]
        }
      ]
    },
    {
      "cell_type": "markdown",
      "source": [
        "#Inheritence\n",
        "\n",
        "Here on class derived properties from other class.\n",
        "Example- Fsmily and child features.\n",
        "\n"
      ],
      "metadata": {
        "id": "Z_ouLsLKpA1W"
      }
    },
    {
      "cell_type": "code",
      "source": [
        "# Creating first class.\n",
        "\n",
        "class Vechicle:\n",
        "  def __init__(self , name , milege , price):\n",
        "    self.name = name\n",
        "    self.milege = milege\n",
        "    self.price = price\n",
        "  def show_name(self):\n",
        "    print('Hello, my car name is', self.name)\n",
        "    print('Hello, car milege is', self.milege)\n",
        "    print('Hello, it price is', self.price)\n",
        "\n",
        "p = Vechicle('Scorpio' , 34 , 1400000)"
      ],
      "metadata": {
        "id": "YgB7xAAMDyBC"
      },
      "execution_count": null,
      "outputs": []
    },
    {
      "cell_type": "code",
      "source": [
        "p.show_name()\n"
      ],
      "metadata": {
        "colab": {
          "base_uri": "https://localhost:8080/"
        },
        "id": "-y4dwLlEDyD4",
        "outputId": "3d645711-7320-4310-bdf3-b71323ddbb41"
      },
      "execution_count": null,
      "outputs": [
        {
          "output_type": "stream",
          "name": "stdout",
          "text": [
            "Hello, my car name is Scorpio\n",
            "Hello, car milege is 34\n",
            "Hello, it price is 1400000\n"
          ]
        }
      ]
    },
    {
      "cell_type": "code",
      "source": [
        "class car(Vechicle):\n",
        "  def show_car(self):\n",
        "    print(\"I am its owner\")"
      ],
      "metadata": {
        "id": "jdqJp8RtDyGm"
      },
      "execution_count": null,
      "outputs": []
    },
    {
      "cell_type": "code",
      "source": [
        "p1 = car('Pajero' , 23 , 3500000)\n",
        "p1.show_name()"
      ],
      "metadata": {
        "colab": {
          "base_uri": "https://localhost:8080/"
        },
        "id": "rzYf4lrFDyJF",
        "outputId": "af399262-2563-4c9a-da93-8c7d3103ab7b"
      },
      "execution_count": null,
      "outputs": [
        {
          "output_type": "stream",
          "name": "stdout",
          "text": [
            "Hello, my car name is Pajero\n",
            "Hello, car milege is 23\n",
            "Hello, it price is 3500000\n"
          ]
        }
      ]
    },
    {
      "cell_type": "code",
      "source": [
        "p1.show_car()"
      ],
      "metadata": {
        "colab": {
          "base_uri": "https://localhost:8080/"
        },
        "id": "enbOja-ADyMq",
        "outputId": "92732e40-dcb6-40aa-8fd9-3ae4363148fe"
      },
      "execution_count": null,
      "outputs": [
        {
          "output_type": "stream",
          "name": "stdout",
          "text": [
            "I am its owner\n"
          ]
        }
      ]
    },
    {
      "cell_type": "markdown",
      "source": [
        "#Multilevel inheritence\n"
      ],
      "metadata": {
        "id": "0XnShoI0dQyI"
      }
    },
    {
      "cell_type": "code",
      "source": [],
      "metadata": {
        "id": "uwqOqlSttk83"
      },
      "execution_count": null,
      "outputs": []
    },
    {
      "cell_type": "code",
      "source": [],
      "metadata": {
        "id": "1t8PgvS2tk-7"
      },
      "execution_count": null,
      "outputs": []
    },
    {
      "cell_type": "code",
      "source": [],
      "metadata": {
        "id": "Y6f6BhDxtlA1"
      },
      "execution_count": null,
      "outputs": []
    },
    {
      "cell_type": "code",
      "source": [],
      "metadata": {
        "id": "tcSct07ztlDP"
      },
      "execution_count": null,
      "outputs": []
    },
    {
      "cell_type": "code",
      "source": [],
      "metadata": {
        "id": "M_re14AYtlHI"
      },
      "execution_count": null,
      "outputs": []
    },
    {
      "cell_type": "code",
      "source": [],
      "metadata": {
        "id": "OqvYIihrDyQq"
      },
      "execution_count": null,
      "outputs": []
    },
    {
      "cell_type": "code",
      "source": [],
      "metadata": {
        "id": "I6-5BW9NDvfT"
      },
      "execution_count": null,
      "outputs": []
    }
  ]
}